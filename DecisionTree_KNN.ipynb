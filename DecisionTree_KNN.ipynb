{
 "cells": [
  {
   "cell_type": "markdown",
   "id": "838ead8c",
   "metadata": {},
   "source": [
    "The objective of this notebook is to use decision tree and kNN on a Carseats dataset for sales to explore to make predictions. "
   ]
  },
  {
   "cell_type": "code",
   "execution_count": 1,
   "id": "86be3e46",
   "metadata": {},
   "outputs": [],
   "source": [
    "\n",
    "import pandas as pd\n",
    "import numpy as np\n",
    "from sklearn.model_selection import StratifiedShuffleSplit\n",
    "import matplotlib.pyplot as plt\n"
   ]
  },
  {
   "cell_type": "markdown",
   "id": "d1053e8a",
   "metadata": {},
   "source": [
    "## Loading the \"Carseats\" dataset\n"
   ]
  },
  {
   "cell_type": "markdown",
   "id": "2cc13412",
   "metadata": {},
   "source": [
    "we will use the *Carseats* dataset, which contains information about car seat sales in 400 stores.\n",
    "\n",
    "The columns included in this dataset are:\n",
    "- Sales : Unit sales (in thousands) at each location\n",
    "- CompPrice : Price charged by competitor at each location\n",
    "- Income : Community income level (in thousands of dollars)\n",
    "- Advertising : Local advertising budget for company at each location (in thousands of dollars)\n",
    "- Population : Population size in region (in thousands)\n",
    "- Price : Price company charges for car seats at each site\n",
    "- ShelveLoc : A factor with levels Bad, Good and Medium indicating the quality of the shelving location for the car seats at each site\n",
    "- Age : Average age of the population at local location\n",
    "- Education : Education level at each location\n",
    "- Urban : A factor with levels No and Yes to indicate whether the store is in an urban or rural location\n",
    "- US : A factor with levels No and Yes to indicate whether the store is in the US or not"
   ]
  },
  {
   "cell_type": "code",
   "execution_count": 4,
   "id": "80e46044",
   "metadata": {},
   "outputs": [
    {
     "data": {
      "text/plain": [
       "(400, 11)"
      ]
     },
     "execution_count": 4,
     "metadata": {},
     "output_type": "execute_result"
    }
   ],
   "source": [
    "\n",
    "#carseats dataset is loaded into carset\n",
    "carset = pd.read_csv(\"Carseats.csv\")\n",
    "carset.shape\n"
   ]
  },
  {
   "cell_type": "code",
   "execution_count": 5,
   "id": "aecf72c6",
   "metadata": {},
   "outputs": [
    {
     "data": {
      "text/html": [
       "<div>\n",
       "<style scoped>\n",
       "    .dataframe tbody tr th:only-of-type {\n",
       "        vertical-align: middle;\n",
       "    }\n",
       "\n",
       "    .dataframe tbody tr th {\n",
       "        vertical-align: top;\n",
       "    }\n",
       "\n",
       "    .dataframe thead th {\n",
       "        text-align: right;\n",
       "    }\n",
       "</style>\n",
       "<table border=\"1\" class=\"dataframe\">\n",
       "  <thead>\n",
       "    <tr style=\"text-align: right;\">\n",
       "      <th></th>\n",
       "      <th>Sales</th>\n",
       "      <th>CompPrice</th>\n",
       "      <th>Income</th>\n",
       "      <th>Advertising</th>\n",
       "      <th>Population</th>\n",
       "      <th>Price</th>\n",
       "      <th>ShelveLoc</th>\n",
       "      <th>Age</th>\n",
       "      <th>Education</th>\n",
       "      <th>Urban</th>\n",
       "      <th>US</th>\n",
       "    </tr>\n",
       "  </thead>\n",
       "  <tbody>\n",
       "    <tr>\n",
       "      <th>0</th>\n",
       "      <td>9.50</td>\n",
       "      <td>138</td>\n",
       "      <td>73</td>\n",
       "      <td>11</td>\n",
       "      <td>276</td>\n",
       "      <td>120</td>\n",
       "      <td>Bad</td>\n",
       "      <td>42</td>\n",
       "      <td>17</td>\n",
       "      <td>Yes</td>\n",
       "      <td>Yes</td>\n",
       "    </tr>\n",
       "    <tr>\n",
       "      <th>1</th>\n",
       "      <td>11.22</td>\n",
       "      <td>111</td>\n",
       "      <td>48</td>\n",
       "      <td>16</td>\n",
       "      <td>260</td>\n",
       "      <td>83</td>\n",
       "      <td>Good</td>\n",
       "      <td>65</td>\n",
       "      <td>10</td>\n",
       "      <td>Yes</td>\n",
       "      <td>Yes</td>\n",
       "    </tr>\n",
       "    <tr>\n",
       "      <th>2</th>\n",
       "      <td>10.06</td>\n",
       "      <td>113</td>\n",
       "      <td>35</td>\n",
       "      <td>10</td>\n",
       "      <td>269</td>\n",
       "      <td>80</td>\n",
       "      <td>Medium</td>\n",
       "      <td>59</td>\n",
       "      <td>12</td>\n",
       "      <td>Yes</td>\n",
       "      <td>Yes</td>\n",
       "    </tr>\n",
       "    <tr>\n",
       "      <th>3</th>\n",
       "      <td>7.40</td>\n",
       "      <td>117</td>\n",
       "      <td>100</td>\n",
       "      <td>4</td>\n",
       "      <td>466</td>\n",
       "      <td>97</td>\n",
       "      <td>Medium</td>\n",
       "      <td>55</td>\n",
       "      <td>14</td>\n",
       "      <td>Yes</td>\n",
       "      <td>Yes</td>\n",
       "    </tr>\n",
       "    <tr>\n",
       "      <th>4</th>\n",
       "      <td>4.15</td>\n",
       "      <td>141</td>\n",
       "      <td>64</td>\n",
       "      <td>3</td>\n",
       "      <td>340</td>\n",
       "      <td>128</td>\n",
       "      <td>Bad</td>\n",
       "      <td>38</td>\n",
       "      <td>13</td>\n",
       "      <td>Yes</td>\n",
       "      <td>No</td>\n",
       "    </tr>\n",
       "  </tbody>\n",
       "</table>\n",
       "</div>"
      ],
      "text/plain": [
       "   Sales  CompPrice  Income  Advertising  Population  Price ShelveLoc  Age  \\\n",
       "0   9.50        138      73           11         276    120       Bad   42   \n",
       "1  11.22        111      48           16         260     83      Good   65   \n",
       "2  10.06        113      35           10         269     80    Medium   59   \n",
       "3   7.40        117     100            4         466     97    Medium   55   \n",
       "4   4.15        141      64            3         340    128       Bad   38   \n",
       "\n",
       "   Education Urban   US  \n",
       "0         17   Yes  Yes  \n",
       "1         10   Yes  Yes  \n",
       "2         12   Yes  Yes  \n",
       "3         14   Yes  Yes  \n",
       "4         13   Yes   No  "
      ]
     },
     "execution_count": 5,
     "metadata": {},
     "output_type": "execute_result"
    }
   ],
   "source": [
    "carset.head()"
   ]
  },
  {
   "cell_type": "code",
   "execution_count": 6,
   "id": "17cec50c",
   "metadata": {},
   "outputs": [
    {
     "data": {
      "text/html": [
       "<div>\n",
       "<style scoped>\n",
       "    .dataframe tbody tr th:only-of-type {\n",
       "        vertical-align: middle;\n",
       "    }\n",
       "\n",
       "    .dataframe tbody tr th {\n",
       "        vertical-align: top;\n",
       "    }\n",
       "\n",
       "    .dataframe thead th {\n",
       "        text-align: right;\n",
       "    }\n",
       "</style>\n",
       "<table border=\"1\" class=\"dataframe\">\n",
       "  <thead>\n",
       "    <tr style=\"text-align: right;\">\n",
       "      <th></th>\n",
       "      <th>Sales</th>\n",
       "      <th>CompPrice</th>\n",
       "      <th>Income</th>\n",
       "      <th>Advertising</th>\n",
       "      <th>Population</th>\n",
       "      <th>Price</th>\n",
       "      <th>Age</th>\n",
       "      <th>Education</th>\n",
       "    </tr>\n",
       "  </thead>\n",
       "  <tbody>\n",
       "    <tr>\n",
       "      <th>count</th>\n",
       "      <td>400.000000</td>\n",
       "      <td>400.000000</td>\n",
       "      <td>400.000000</td>\n",
       "      <td>400.000000</td>\n",
       "      <td>400.000000</td>\n",
       "      <td>400.000000</td>\n",
       "      <td>400.000000</td>\n",
       "      <td>400.000000</td>\n",
       "    </tr>\n",
       "    <tr>\n",
       "      <th>mean</th>\n",
       "      <td>7.496325</td>\n",
       "      <td>124.975000</td>\n",
       "      <td>68.657500</td>\n",
       "      <td>6.635000</td>\n",
       "      <td>264.840000</td>\n",
       "      <td>115.795000</td>\n",
       "      <td>53.322500</td>\n",
       "      <td>13.900000</td>\n",
       "    </tr>\n",
       "    <tr>\n",
       "      <th>std</th>\n",
       "      <td>2.824115</td>\n",
       "      <td>15.334512</td>\n",
       "      <td>27.986037</td>\n",
       "      <td>6.650364</td>\n",
       "      <td>147.376436</td>\n",
       "      <td>23.676664</td>\n",
       "      <td>16.200297</td>\n",
       "      <td>2.620528</td>\n",
       "    </tr>\n",
       "    <tr>\n",
       "      <th>min</th>\n",
       "      <td>0.000000</td>\n",
       "      <td>77.000000</td>\n",
       "      <td>21.000000</td>\n",
       "      <td>0.000000</td>\n",
       "      <td>10.000000</td>\n",
       "      <td>24.000000</td>\n",
       "      <td>25.000000</td>\n",
       "      <td>10.000000</td>\n",
       "    </tr>\n",
       "    <tr>\n",
       "      <th>25%</th>\n",
       "      <td>5.390000</td>\n",
       "      <td>115.000000</td>\n",
       "      <td>42.750000</td>\n",
       "      <td>0.000000</td>\n",
       "      <td>139.000000</td>\n",
       "      <td>100.000000</td>\n",
       "      <td>39.750000</td>\n",
       "      <td>12.000000</td>\n",
       "    </tr>\n",
       "    <tr>\n",
       "      <th>50%</th>\n",
       "      <td>7.490000</td>\n",
       "      <td>125.000000</td>\n",
       "      <td>69.000000</td>\n",
       "      <td>5.000000</td>\n",
       "      <td>272.000000</td>\n",
       "      <td>117.000000</td>\n",
       "      <td>54.500000</td>\n",
       "      <td>14.000000</td>\n",
       "    </tr>\n",
       "    <tr>\n",
       "      <th>75%</th>\n",
       "      <td>9.320000</td>\n",
       "      <td>135.000000</td>\n",
       "      <td>91.000000</td>\n",
       "      <td>12.000000</td>\n",
       "      <td>398.500000</td>\n",
       "      <td>131.000000</td>\n",
       "      <td>66.000000</td>\n",
       "      <td>16.000000</td>\n",
       "    </tr>\n",
       "    <tr>\n",
       "      <th>max</th>\n",
       "      <td>16.270000</td>\n",
       "      <td>175.000000</td>\n",
       "      <td>120.000000</td>\n",
       "      <td>29.000000</td>\n",
       "      <td>509.000000</td>\n",
       "      <td>191.000000</td>\n",
       "      <td>80.000000</td>\n",
       "      <td>18.000000</td>\n",
       "    </tr>\n",
       "  </tbody>\n",
       "</table>\n",
       "</div>"
      ],
      "text/plain": [
       "            Sales   CompPrice      Income  Advertising  Population  \\\n",
       "count  400.000000  400.000000  400.000000   400.000000  400.000000   \n",
       "mean     7.496325  124.975000   68.657500     6.635000  264.840000   \n",
       "std      2.824115   15.334512   27.986037     6.650364  147.376436   \n",
       "min      0.000000   77.000000   21.000000     0.000000   10.000000   \n",
       "25%      5.390000  115.000000   42.750000     0.000000  139.000000   \n",
       "50%      7.490000  125.000000   69.000000     5.000000  272.000000   \n",
       "75%      9.320000  135.000000   91.000000    12.000000  398.500000   \n",
       "max     16.270000  175.000000  120.000000    29.000000  509.000000   \n",
       "\n",
       "            Price         Age   Education  \n",
       "count  400.000000  400.000000  400.000000  \n",
       "mean   115.795000   53.322500   13.900000  \n",
       "std     23.676664   16.200297    2.620528  \n",
       "min     24.000000   25.000000   10.000000  \n",
       "25%    100.000000   39.750000   12.000000  \n",
       "50%    117.000000   54.500000   14.000000  \n",
       "75%    131.000000   66.000000   16.000000  \n",
       "max    191.000000   80.000000   18.000000  "
      ]
     },
     "execution_count": 6,
     "metadata": {},
     "output_type": "execute_result"
    }
   ],
   "source": [
    "\n",
    "carset.describe()"
   ]
  },
  {
   "cell_type": "code",
   "execution_count": 7,
   "id": "bb81ffef",
   "metadata": {},
   "outputs": [
    {
     "data": {
      "image/png": "[encoded data removed]",
      "text/plain": [
       "<Figure size 640x480 with 1 Axes>"
      ]
     },
     "metadata": {},
     "output_type": "display_data"
    }
   ],
   "source": [
    "# Sort the DataFrame based on the order\n",
    "shelve_loc_order = ['Bad', 'Medium', 'Good']\n",
    "carset['ShelveLoc'] = pd.Categorical(carset['ShelveLoc'], categories=shelve_loc_order, ordered=True)\n",
    "carset = carset.sort_values(by='ShelveLoc')\n",
    "\n",
    "\n",
    "# Plot the boxplot\n",
    "# TO DO ########################\n",
    "boxplot = carset.boxplot(column=['Sales'],by='ShelveLoc')\n",
    "\n",
    "  \n",
    "##########################################"
   ]
  },
  {
   "cell_type": "markdown",
   "id": "dd1498da",
   "metadata": {},
   "source": [
    "We will start to prepare the dataset for developing our classifiers. Given that in this dataset the output variable, *Sales*, is numeric, we will bin this variable into two groups based on whether or not the sales are greater than 8 (*Sales*$>8$)"
   ]
  },
  {
   "cell_type": "markdown",
   "id": "b7bdeee3",
   "metadata": {},
   "source": [
    "Creating a new column called *High_Sales*, assigning a value of 'Yes' for locations with sales exceeding 8, and 'No' for those with sales equal to or less than 8."
   ]
  },
  {
   "cell_type": "code",
   "execution_count": 8,
   "id": "50029760",
   "metadata": {},
   "outputs": [
    {
     "data": {
      "text/html": [
       "<div>\n",
       "<style scoped>\n",
       "    .dataframe tbody tr th:only-of-type {\n",
       "        vertical-align: middle;\n",
       "    }\n",
       "\n",
       "    .dataframe tbody tr th {\n",
       "        vertical-align: top;\n",
       "    }\n",
       "\n",
       "    .dataframe thead th {\n",
       "        text-align: right;\n",
       "    }\n",
       "</style>\n",
       "<table border=\"1\" class=\"dataframe\">\n",
       "  <thead>\n",
       "    <tr style=\"text-align: right;\">\n",
       "      <th></th>\n",
       "      <th>Sales</th>\n",
       "      <th>CompPrice</th>\n",
       "      <th>Income</th>\n",
       "      <th>Advertising</th>\n",
       "      <th>Population</th>\n",
       "      <th>Price</th>\n",
       "      <th>ShelveLoc</th>\n",
       "      <th>Age</th>\n",
       "      <th>Education</th>\n",
       "      <th>Urban</th>\n",
       "      <th>US</th>\n",
       "      <th>High_Sales</th>\n",
       "    </tr>\n",
       "  </thead>\n",
       "  <tbody>\n",
       "    <tr>\n",
       "      <th>0</th>\n",
       "      <td>9.50</td>\n",
       "      <td>138</td>\n",
       "      <td>73</td>\n",
       "      <td>11</td>\n",
       "      <td>276</td>\n",
       "      <td>120</td>\n",
       "      <td>Bad</td>\n",
       "      <td>42</td>\n",
       "      <td>17</td>\n",
       "      <td>Yes</td>\n",
       "      <td>Yes</td>\n",
       "      <td>Yes</td>\n",
       "    </tr>\n",
       "    <tr>\n",
       "      <th>307</th>\n",
       "      <td>5.90</td>\n",
       "      <td>138</td>\n",
       "      <td>92</td>\n",
       "      <td>0</td>\n",
       "      <td>13</td>\n",
       "      <td>120</td>\n",
       "      <td>Bad</td>\n",
       "      <td>61</td>\n",
       "      <td>12</td>\n",
       "      <td>Yes</td>\n",
       "      <td>No</td>\n",
       "      <td>No</td>\n",
       "    </tr>\n",
       "    <tr>\n",
       "      <th>246</th>\n",
       "      <td>6.90</td>\n",
       "      <td>120</td>\n",
       "      <td>56</td>\n",
       "      <td>20</td>\n",
       "      <td>266</td>\n",
       "      <td>90</td>\n",
       "      <td>Bad</td>\n",
       "      <td>78</td>\n",
       "      <td>18</td>\n",
       "      <td>Yes</td>\n",
       "      <td>Yes</td>\n",
       "      <td>No</td>\n",
       "    </tr>\n",
       "    <tr>\n",
       "      <th>309</th>\n",
       "      <td>11.18</td>\n",
       "      <td>131</td>\n",
       "      <td>111</td>\n",
       "      <td>13</td>\n",
       "      <td>33</td>\n",
       "      <td>80</td>\n",
       "      <td>Bad</td>\n",
       "      <td>68</td>\n",
       "      <td>18</td>\n",
       "      <td>Yes</td>\n",
       "      <td>Yes</td>\n",
       "      <td>Yes</td>\n",
       "    </tr>\n",
       "    <tr>\n",
       "      <th>311</th>\n",
       "      <td>6.15</td>\n",
       "      <td>146</td>\n",
       "      <td>68</td>\n",
       "      <td>12</td>\n",
       "      <td>328</td>\n",
       "      <td>132</td>\n",
       "      <td>Bad</td>\n",
       "      <td>51</td>\n",
       "      <td>14</td>\n",
       "      <td>Yes</td>\n",
       "      <td>Yes</td>\n",
       "      <td>No</td>\n",
       "    </tr>\n",
       "  </tbody>\n",
       "</table>\n",
       "</div>"
      ],
      "text/plain": [
       "     Sales  CompPrice  Income  Advertising  Population  Price ShelveLoc  Age  \\\n",
       "0     9.50        138      73           11         276    120       Bad   42   \n",
       "307   5.90        138      92            0          13    120       Bad   61   \n",
       "246   6.90        120      56           20         266     90       Bad   78   \n",
       "309  11.18        131     111           13          33     80       Bad   68   \n",
       "311   6.15        146      68           12         328    132       Bad   51   \n",
       "\n",
       "     Education Urban   US High_Sales  \n",
       "0           17   Yes  Yes        Yes  \n",
       "307         12   Yes   No         No  \n",
       "246         18   Yes  Yes         No  \n",
       "309         18   Yes  Yes        Yes  \n",
       "311         14   Yes  Yes         No  "
      ]
     },
     "execution_count": 8,
     "metadata": {},
     "output_type": "execute_result"
    }
   ],
   "source": [
    "\n",
    "##creating a new column and then displaying the first five columns from the dataset\n",
    "carset['High_Sales'] = np.where(carset['Sales']>8, \"Yes\", \"No\")\n",
    "carset.head()"
   ]
  },
  {
   "cell_type": "markdown",
   "id": "0e0c5824",
   "metadata": {},
   "source": [
    " Dropping the column sales."
   ]
  },
  {
   "cell_type": "code",
   "execution_count": 9,
   "id": "45486f6a",
   "metadata": {},
   "outputs": [
    {
     "data": {
      "text/html": [
       "<div>\n",
       "<style scoped>\n",
       "    .dataframe tbody tr th:only-of-type {\n",
       "        vertical-align: middle;\n",
       "    }\n",
       "\n",
       "    .dataframe tbody tr th {\n",
       "        vertical-align: top;\n",
       "    }\n",
       "\n",
       "    .dataframe thead th {\n",
       "        text-align: right;\n",
       "    }\n",
       "</style>\n",
       "<table border=\"1\" class=\"dataframe\">\n",
       "  <thead>\n",
       "    <tr style=\"text-align: right;\">\n",
       "      <th></th>\n",
       "      <th>CompPrice</th>\n",
       "      <th>Income</th>\n",
       "      <th>Advertising</th>\n",
       "      <th>Population</th>\n",
       "      <th>Price</th>\n",
       "      <th>ShelveLoc</th>\n",
       "      <th>Age</th>\n",
       "      <th>Education</th>\n",
       "      <th>Urban</th>\n",
       "      <th>US</th>\n",
       "      <th>High_Sales</th>\n",
       "    </tr>\n",
       "  </thead>\n",
       "  <tbody>\n",
       "    <tr>\n",
       "      <th>0</th>\n",
       "      <td>138</td>\n",
       "      <td>73</td>\n",
       "      <td>11</td>\n",
       "      <td>276</td>\n",
       "      <td>120</td>\n",
       "      <td>Bad</td>\n",
       "      <td>42</td>\n",
       "      <td>17</td>\n",
       "      <td>Yes</td>\n",
       "      <td>Yes</td>\n",
       "      <td>Yes</td>\n",
       "    </tr>\n",
       "    <tr>\n",
       "      <th>307</th>\n",
       "      <td>138</td>\n",
       "      <td>92</td>\n",
       "      <td>0</td>\n",
       "      <td>13</td>\n",
       "      <td>120</td>\n",
       "      <td>Bad</td>\n",
       "      <td>61</td>\n",
       "      <td>12</td>\n",
       "      <td>Yes</td>\n",
       "      <td>No</td>\n",
       "      <td>No</td>\n",
       "    </tr>\n",
       "    <tr>\n",
       "      <th>246</th>\n",
       "      <td>120</td>\n",
       "      <td>56</td>\n",
       "      <td>20</td>\n",
       "      <td>266</td>\n",
       "      <td>90</td>\n",
       "      <td>Bad</td>\n",
       "      <td>78</td>\n",
       "      <td>18</td>\n",
       "      <td>Yes</td>\n",
       "      <td>Yes</td>\n",
       "      <td>No</td>\n",
       "    </tr>\n",
       "    <tr>\n",
       "      <th>309</th>\n",
       "      <td>131</td>\n",
       "      <td>111</td>\n",
       "      <td>13</td>\n",
       "      <td>33</td>\n",
       "      <td>80</td>\n",
       "      <td>Bad</td>\n",
       "      <td>68</td>\n",
       "      <td>18</td>\n",
       "      <td>Yes</td>\n",
       "      <td>Yes</td>\n",
       "      <td>Yes</td>\n",
       "    </tr>\n",
       "    <tr>\n",
       "      <th>311</th>\n",
       "      <td>146</td>\n",
       "      <td>68</td>\n",
       "      <td>12</td>\n",
       "      <td>328</td>\n",
       "      <td>132</td>\n",
       "      <td>Bad</td>\n",
       "      <td>51</td>\n",
       "      <td>14</td>\n",
       "      <td>Yes</td>\n",
       "      <td>Yes</td>\n",
       "      <td>No</td>\n",
       "    </tr>\n",
       "  </tbody>\n",
       "</table>\n",
       "</div>"
      ],
      "text/plain": [
       "     CompPrice  Income  Advertising  Population  Price ShelveLoc  Age  \\\n",
       "0          138      73           11         276    120       Bad   42   \n",
       "307        138      92            0          13    120       Bad   61   \n",
       "246        120      56           20         266     90       Bad   78   \n",
       "309        131     111           13          33     80       Bad   68   \n",
       "311        146      68           12         328    132       Bad   51   \n",
       "\n",
       "     Education Urban   US High_Sales  \n",
       "0           17   Yes  Yes        Yes  \n",
       "307         12   Yes   No         No  \n",
       "246         18   Yes  Yes         No  \n",
       "309         18   Yes  Yes        Yes  \n",
       "311         14   Yes  Yes         No  "
      ]
     },
     "execution_count": 9,
     "metadata": {},
     "output_type": "execute_result"
    }
   ],
   "source": [
    "carset.drop( ['Sales' ], axis=1,inplace=True ) \n",
    "carset.head()\n"
   ]
  },
  {
   "cell_type": "markdown",
   "id": "3f228bac",
   "metadata": {},
   "source": [
    "We can use the method carset.info() to visualize the type of the new colums"
   ]
  },
  {
   "cell_type": "code",
   "execution_count": 10,
   "id": "fe45321f",
   "metadata": {
    "scrolled": true
   },
   "outputs": [
    {
     "name": "stdout",
     "output_type": "stream",
     "text": [
      "<class 'pandas.core.frame.DataFrame'>\n",
      "Index: 400 entries, 0 to 399\n",
      "Data columns (total 11 columns):\n",
      " #   Column       Non-Null Count  Dtype   \n",
      "---  ------       --------------  -----   \n",
      " 0   CompPrice    400 non-null    int64   \n",
      " 1   Income       400 non-null    int64   \n",
      " 2   Advertising  400 non-null    int64   \n",
      " 3   Population   400 non-null    int64   \n",
      " 4   Price        400 non-null    int64   \n",
      " 5   ShelveLoc    400 non-null    category\n",
      " 6   Age          400 non-null    int64   \n",
      " 7   Education    400 non-null    int64   \n",
      " 8   Urban        400 non-null    object  \n",
      " 9   US           400 non-null    object  \n",
      " 10  High_Sales   400 non-null    object  \n",
      "dtypes: category(1), int64(7), object(3)\n",
      "memory usage: 34.9+ KB\n"
     ]
    }
   ],
   "source": [
    "carset.info()"
   ]
  },
  {
   "cell_type": "markdown",
   "id": "5354dc02",
   "metadata": {},
   "source": [
    "As we will need to know which features are quantitative and qualitative for building the classifiers, let's create a dictionary that uses the feature name as the key and if such a feature is numerical (True or False) as the value. We can know the type of each column using carset.dtypes."
   ]
  },
  {
   "cell_type": "code",
   "execution_count": 11,
   "id": "592ac42a",
   "metadata": {},
   "outputs": [
    {
     "name": "stdout",
     "output_type": "stream",
     "text": [
      "CompPrice         int64\n",
      "Income            int64\n",
      "Advertising       int64\n",
      "Population        int64\n",
      "Price             int64\n",
      "ShelveLoc      category\n",
      "Age               int64\n",
      "Education         int64\n",
      "Urban            object\n",
      "US               object\n",
      "High_Sales       object\n",
      "dtype: object\n"
     ]
    },
    {
     "data": {
      "text/plain": [
       "{'CompPrice': True,\n",
       " 'Income': True,\n",
       " 'Advertising': True,\n",
       " 'Population': True,\n",
       " 'Price': True,\n",
       " 'ShelveLoc': False,\n",
       " 'Age': True,\n",
       " 'Education': True,\n",
       " 'Urban': False,\n",
       " 'US': False,\n",
       " 'High_Sales': False}"
      ]
     },
     "execution_count": 11,
     "metadata": {},
     "output_type": "execute_result"
    }
   ],
   "source": [
    "typeFeat = carset.dtypes\n",
    "print(typeFeat)\n",
    "\n",
    "dictFeatType = {}\n",
    "for idxFeat in range( len( typeFeat ) ):\n",
    "    dictFeatType[ carset.columns[idxFeat] ] = typeFeat[idxFeat]== 'int64'  \n",
    "    \n",
    "dictFeatType"
   ]
  },
  {
   "cell_type": "markdown",
   "id": "0c7af39c",
   "metadata": {},
   "source": [
    "## Splitting data into training and test sets\n",
    "We will split our dataset into two sets: 80% for the training set and 20% for the test set. The training set will be used to develop the classifiers and the test to evaluate the accuracy of those models. \n",
    "\n",
    "To split into training and test set, we will use Python's inbuilt function StratifiedShuffleSplit (https://scikit-learn.org/stable/modules/generated/sklearn.model_selection.StratifiedShuffleSplit.html). The StratifiedShuffleSplit method ensures that both the training and test set has the same proportion of the response variable."
   ]
  },
  {
   "cell_type": "code",
   "execution_count": 12,
   "id": "fd482750",
   "metadata": {},
   "outputs": [
    {
     "name": "stdout",
     "output_type": "stream",
     "text": [
      "Shape of train set\n",
      "(320, 10) (320,)\n",
      "Shape of test set\n",
      "(80, 10) (80,)\n"
     ]
    }
   ],
   "source": [
    "sss = StratifiedShuffleSplit(n_splits=1, test_size=0.2, random_state=0)\n",
    "for i, (train_index, test_index) in enumerate(sss.split(carset, carset['High_Sales'] )):\n",
    "    X_train, X_test = carset.iloc[ train_index ][ carset.columns[:-1] ], carset.iloc[ test_index ][ carset.columns[:-1] ]\n",
    "    y_train, y_test = carset.iloc[ train_index ]['High_Sales'], carset.iloc[ test_index ]['High_Sales']\n",
    "\n",
    "print('Shape of train set')\n",
    "print(X_train.shape, y_train.shape)\n",
    "\n",
    "print('Shape of test set')\n",
    "print(X_test.shape, y_test.shape)"
   ]
  },
  {
   "cell_type": "markdown",
   "id": "374bd5e0",
   "metadata": {},
   "source": [
    "Checking class proportions. We can see that both sets have around 60% and 40% for the 'No' and 'Yes' classes, respectively."
   ]
  },
  {
   "cell_type": "code",
   "execution_count": 13,
   "id": "b1c5f7da",
   "metadata": {},
   "outputs": [
    {
     "name": "stdout",
     "output_type": "stream",
     "text": [
      "Class proportion for training set\n",
      "High_Sales\n",
      "No     59.0625\n",
      "Yes    40.9375\n",
      "Name: count, dtype: float64\n",
      "Class proportion for test set\n",
      "High_Sales\n",
      "No     58.75\n",
      "Yes    41.25\n",
      "Name: count, dtype: float64\n",
      "Index(['CompPrice', 'Income', 'Advertising', 'Population', 'Price',\n",
      "       'ShelveLoc', 'Age', 'Education', 'Urban', 'US'],\n",
      "      dtype='object')\n"
     ]
    }
   ],
   "source": [
    "print('Class proportion for training set')\n",
    "print( 100*y_train.value_counts( )/len( y_train) )\n",
    "print('Class proportion for test set')\n",
    "print( 100*y_test.value_counts( )/len( y_test) )\n",
    "print(X_train.columns)"
   ]
  },
  {
   "cell_type": "markdown",
   "id": "b47efd81",
   "metadata": {},
   "source": [
    "## Decision Tree Classifier"
   ]
  },
  {
   "cell_type": "markdown",
   "id": "4a52d572",
   "metadata": {},
   "source": [
    "We will build our decision tree from scratch. We know that a tree is a recursive structure in which each node can have one or more children. So, we are going to define a class called 'Node', which can reference other instances from the node class. This class also will have the following attributes:\n",
    "- 'feature': The name of the feature stored in the node\n",
    "- 'isFetNum': Indicate if the feature is numeric (yes:True, no:False)\n",
    "- 'value': For numerical features, the mean value of the feature. For categorical variables, the category values \n",
    "- 'label': The majority class proportion for the node\n",
    "\n"
   ]
  },
  {
   "cell_type": "code",
   "execution_count": 14,
   "id": "9f30f3a9",
   "metadata": {},
   "outputs": [],
   "source": [
    "class Node:\n",
    "    def __init__(self, feature, value, isFetNum, label , children=None  ):\n",
    "        self.feature = feature  \n",
    "        self.value = value\n",
    "        self.isFetNum = isFetNum\n",
    "        \n",
    "        self.label = label\n",
    "        self.children = children  "
   ]
  },
  {
   "cell_type": "markdown",
   "id": "13de9fbc",
   "metadata": {},
   "source": [
    "As we discussed in class, we need to define a function to measure the purity. To this aim, we are going to use gini index, which is defined as:\n",
    "\n",
    "$ G_{i,j} = \\sum_{k}^{K} p_{k} \\cdot (1-p_{k})$,\n",
    "\n",
    "where $p_{k}$ is the proportion of $k-th$ class at the $j-th$ children of the $i-th$ node.\n",
    "\n",
    "The gini index need to be calculated for each children. Then, the gain for the specific feature is computed as:\n",
    "\n",
    "$Gain = G_{i} - \\sum_{j}^{C} \\frac{N_{j} }{N_i} \\cdot G_{i,j} $,\n",
    "\n",
    "where $N_{j}$ is the total samples in the $j-th$ children, and  $N_{i}$ the total samples in the $i-th$ node."
   ]
  },
  {
   "cell_type": "markdown",
   "id": "ab46f0bc",
   "metadata": {},
   "source": [
    " Let's do these calculations in different steps.\n",
    "\n",
    "First, complete the function giniFun, which receives a vector of classes as an argument. You will need to iterate over all the possible values of classes to determine the proportion of each class ($p_{k}=N_{k}/N$). Using the proportion of the classes, compute the Gini equation.\n",
    "\n",
    "In Python, you can obtain the unique classes using the command: ``uniqueClass = classes.unique()``"
   ]
  },
  {
   "cell_type": "code",
   "execution_count": 15,
   "id": "7ce3b210",
   "metadata": {},
   "outputs": [],
   "source": [
    "def giniFun( classes ):\n",
    "    \n",
    "    \n",
    "    \n",
    "    #for retriving all the unique classes from the 'classes' vector\n",
    "    uniqueClass = classes.unique()\n",
    "    \n",
    "    #converting it into a list\n",
    "    list1 = list( uniqueClass)\n",
    "    \n",
    "    \n",
    "    totalSamples = len( classes )\n",
    "    giniValue = 0\n",
    "   \n",
    "    for idxClass in range( len(list1)):\n",
    "        p = np.sum(classes == list1[idxClass] )/totalSamples\n",
    "        \n",
    "        giniValue += p**2\n",
    "        \n",
    "    return 1 - giniValue\n",
    "    \n"
   ]
  },
  {
   "cell_type": "markdown",
   "id": "8ee42eb5",
   "metadata": {},
   "source": [
    "The `giniFun` calculates the gini for only one node. Now, we need to compute the gini index for each child's node and accumulate them.\n",
    "\n",
    "The input `childrenGroupClass` is a list of the children of the node. You need to iterate over the children node and calculate the `giniFun` for each child. To aggregate the gini index value of all the children, you will need to multiply the gini index with the proportion of samples in that children ($\\sum_{j}^{C} \\frac{N_{j} }{N_i} \\cdot G_{i,j} $)"
   ]
  },
  {
   "cell_type": "code",
   "execution_count": 16,
   "id": "5e1ed23e",
   "metadata": {},
   "outputs": [],
   "source": [
    "def calculateGiniIndexChildren( childrenGroupClass  ):\n",
    "    \n",
    "    totalSamples = 0\n",
    "    gini = 0 #gini of individual node from children\n",
    "    childrenGini = 0 #sum of all the children gini indices will be stored here\n",
    "    \n",
    "    #TO DO #####################\n",
    "    # use this to iterate over the child: \n",
    "    for child in childrenGroupClass:\n",
    "    #length of all children are added to totalSamples\n",
    "         totalSamples += len(child)\n",
    "            \n",
    "            \n",
    "    #print(\"totalsamples\",totalSamples)   \n",
    "    for child in childrenGroupClass:\n",
    "    #proportion of samples in a particular children\n",
    "        proportion = len(child)/totalSamples\n",
    "        \n",
    "        #print(proportion)\n",
    "        #child node is converted into pandas series in case it's not\n",
    "        vctr = pd.Series(child)\n",
    "        #print(giniFun(vctr))\n",
    "        gini = giniFun(vctr)\n",
    "        \n",
    "        #all the individual ginis are multiplied by proportion and then summed into childrenGini\n",
    "        childrenGini += gini * proportion\n",
    "        \n",
    "        \n",
    " \n",
    "    ########################################\n",
    "    #return gini\n",
    "    return childrenGini\n"
   ]
  },
  {
   "cell_type": "markdown",
   "id": "53eb03b1",
   "metadata": {},
   "source": [
    "Now that you calculate the accumulated gain of the children, it is time to calculate the gain in the Gini index. For this, you need to calculate the Gini index of the node. Then, you will need to call `calculateGiniIndexChildren( childrenGroupClass  )`. Finally, subtract the two quantities."
   ]
  },
  {
   "cell_type": "code",
   "execution_count": 17,
   "id": "98e4defd",
   "metadata": {},
   "outputs": [],
   "source": [
    "def gainGiniIndex( allLabels, childrenGroupClass ):\n",
    "    #TO DO #####################\n",
    "    #first parameter i.e parent node is converted into pandas series\n",
    "    vctr1 = pd.Series(allLabels) \n",
    "    #gini for parent is calculated\n",
    "    giniAll = giniFun(vctr1)\n",
    "    #second parameter i.e 2-D array of children nodes is converted into pandas series\n",
    "    vctr2= pd.Series(childrenGroupClass) \n",
    "    #children Gain is calculated using the calculateGiniIndexChildren()\n",
    "    childrenGain = calculateGiniIndexChildren(vctr2)\n",
    "    \n",
    "  \n",
    "    ########################################\n",
    "    return giniAll - childrenGain"
   ]
  },
  {
   "cell_type": "markdown",
   "id": "70eddf0f",
   "metadata": {},
   "source": [
    " Now, we will use the developed functions to build the decision tree. We will complete the part corresponding to the feature selection. Remember that we need to use the feature whose gain index is the maximum.\n",
    "\n",
    "As we have two types of features (numerical and categorical), the process for calculating the gain index will be different for each type.\n",
    "- Numerical features. First, calculate the mean value of the samples of the node. You need to create two children. The left child will correspond to those elements whose feature value is lower than or equal to the mean. The right children will correspond to those elements whose feature value is greater than the mean. The children need to be allocated into a list, and the `gainGiniIndex` will need to be called.\n",
    "\n",
    "- Categorical features. First, identify the different categories for the features using `samples[col].unique().` You will need to iterate over the possible values and select the subsample that corresponds to the category. Add each subsample to the children's list. Then, called the `gainGiniIndex` using the children list. \n",
    "\n",
    "\n",
    "Once you calculate the gain for each feature, select the feature that obtained the highest gain. This will be used to split the node."
   ]
  },
  {
   "cell_type": "markdown",
   "id": "37635051",
   "metadata": {},
   "source": [
    "The following function make the prediction using the built tree."
   ]
  },
  {
   "cell_type": "code",
   "execution_count": 18,
   "id": "b8003ce1",
   "metadata": {
    "scrolled": true
   },
   "outputs": [],
   "source": [
    "columns = list(X_train.columns)\n",
    "features = columns.copy()\n",
    "selected = []\n",
    "\n",
    "def buildTree(samples, labels, features):\n",
    "    bestFeat = None\n",
    "    bestGain = -1\n",
    "    \n",
    "    #iterate over all the features\n",
    "    for col in features:\n",
    "\n",
    "        # Check if the feature is numerical or categorical\n",
    "        if dictFeatType[col]:\n",
    "            #Numerical features\n",
    "            list_using_loc = samples.loc[:, col]\n",
    "            \n",
    "            ########### TO DO ##########################\n",
    "            # calculate the mean\n",
    "            \n",
    "            mean = list_using_loc.mean()\n",
    "             #define the left and right children\n",
    "            leftChild = []\n",
    "            rightChild = []\n",
    "            \n",
    "            n=0\n",
    "            \n",
    "            for child in list_using_loc :\n",
    "                 # left for <= mean\n",
    "                if child <= mean:\n",
    "                    leftChild.append(labels.iloc[n] )\n",
    "                #right for > mean\n",
    "                else:\n",
    "                    rightChild.append(labels.iloc[n])\n",
    "                    \n",
    "                n+=1\n",
    "\n",
    "            #add children into a list\n",
    "            \n",
    "            both = []\n",
    "            both.append(leftChild)\n",
    "            both.append(rightChild)\n",
    "            \n",
    "            \n",
    "            #call the gainFunction\n",
    "            Gain = gainGiniIndex(labels, both)\n",
    "            \n",
    "            if Gain > bestGain:\n",
    "                bestGain = Gain\n",
    "                bestFeat = col\n",
    "                \n",
    "                \n",
    "                \n",
    "                \n",
    "                \n",
    "        else:\n",
    "            #categorical\n",
    "            ########### TO DO ##########################\n",
    "            # find unique categories of the feat (.unique())\n",
    "            categories = samples[col].unique()\n",
    "            samp = samples.loc[:, col]\n",
    "            \n",
    "            children = []\n",
    "            \n",
    "            #iterate for each \n",
    "            for cat in categories:           \n",
    "                selected = []\n",
    "                r=0\n",
    "                \n",
    "                for j in samp:\n",
    "                    #select those sumples equal (==) to the cat\n",
    "                    if j == cat:\n",
    "                         selected.append(labels.iloc[r])\n",
    "                    r+=1\n",
    "                #adding to the children list\n",
    "                children.append(selected)\n",
    "\n",
    "            #call gain function\n",
    "            Gain = gainGiniIndex(labels, children)\n",
    "            ##########################\n",
    "\n",
    "        ########### TO DO ##########################\n",
    "        #update bestGain and bestFeat in case the gain is greater than the current value\n",
    "        \n",
    "            if Gain > bestGain:\n",
    "                bestGain = Gain\n",
    "                bestFeat = col\n",
    "\n",
    "    # removing the selected feature from the features list \n",
    "    if bestFeat in features:      \n",
    "        features.remove(bestFeat)\n",
    "\n",
    "    ################################################################################################################\n",
    "    # This part is the recursive call to build the tree\n",
    "    # please do not modify ##########################\n",
    "    ### split ###\n",
    "    modeValue = labels.mode()\n",
    "    label = modeValue[0]        \n",
    "    if dictFeatType[bestFeat]:\n",
    "        #This is a numerical feature\n",
    "        isFetNum = True\n",
    "        meanValue = samples[bestFeat].mean()\n",
    "        node = Node(bestFeat, meanValue, isFetNum, label )\n",
    "\n",
    "        # We only split if the gain is greater than 0\n",
    "        if bestGain > 0 and len(features)>0:\n",
    "            leftSubgroup_x =  samples[ samples[bestFeat] <= meanValue ][features]\n",
    "            leftSubgroup_y =  labels[ samples[bestFeat] <= meanValue ]\n",
    "            left = buildTree( leftSubgroup_x, leftSubgroup_y, features.copy() )\n",
    "            rightSubgroup_x = samples[ samples[bestFeat] > meanValue ][features]\n",
    "            \n",
    "            rightSubgroup_y = labels[ samples[bestFeat] > meanValue ]\n",
    "            right = buildTree( rightSubgroup_x, rightSubgroup_y, features.copy()  )\n",
    "            node.children = [left, right ]\n",
    "    else:\n",
    "        #This is a categorical feature\n",
    "        isFetNum = False\n",
    "        catValue = samples[bestFeat].unique()\n",
    "        node = Node(bestFeat, catValue, isFetNum, label )\n",
    "        # We only split if the gain is greater than 0\n",
    "        \n",
    "        if bestGain > 0 and len(features)>0:\n",
    "            children = [ ]\n",
    "            for cat in catValue:\n",
    "                catGroup = samples[ samples[bestFeat] == cat ][features]\n",
    "                catGroupLabel = labels[ samples[bestFeat] == cat ]\n",
    "                child = buildTree( catGroup, catGroupLabel, features.copy() )\n",
    "                children.append( child )\n",
    "            node.children = children\n",
    "\n",
    "    return node\n",
    "        \n",
    "myNode = buildTree( X_train, y_train, features )  "
   ]
  },
  {
   "cell_type": "code",
   "execution_count": 19,
   "id": "02918dbb",
   "metadata": {},
   "outputs": [],
   "source": [
    "def predict(sample, node):\n",
    "    \n",
    "    if node.children == None :\n",
    "        #case base. The node does not have children\n",
    "        return node.label\n",
    "    \n",
    "    #Checking if the node holds a numerical or categorical feature\n",
    "    if node.isFetNum: \n",
    "        #Numerical feature\n",
    "        feature = node.feature\n",
    "        value = node.value\n",
    "    \n",
    "        #checking which path to take\n",
    "        # left child if lower than value\n",
    "        if sample[ feature ]  <= value:\n",
    "            label = predict(sample, node.children[0] )\n",
    "            \n",
    "        else:\n",
    "            #right child\n",
    "            label = predict(sample, node.children[1] )\n",
    "    else:\n",
    "        #categorical feature\n",
    "        feature = node.feature\n",
    "        values = node.value\n",
    "        \n",
    "        #iterate over the values\n",
    "        for idxValue in range( len(values) ):\n",
    "            #find that one that match the sample value\n",
    "            if values[idxValue] == sample[ feature ]:\n",
    "                label = predict(sample, node.children[idxValue] )\n",
    "                \n",
    "        \n",
    "    return label"
   ]
  },
  {
   "cell_type": "markdown",
   "id": "98a898b3",
   "metadata": {},
   "source": [
    "Calculate the accurcury on the X_train and X_test. Complete the `calculateAccuracy` which iterate over the samples and call the method. If the prediction is equals to the actual value, increase the variable `correctSamples`.\n",
    "\n",
    "The expected output is: \"Accuracy for training set:0.971875 and for test set:0.7125\""
   ]
  },
  {
   "cell_type": "code",
   "execution_count": 20,
   "id": "7bbf5d21",
   "metadata": {},
   "outputs": [
    {
     "name": "stdout",
     "output_type": "stream",
     "text": [
      "Accuracy for training set:0.971875 and for test set:0.7125\n"
     ]
    }
   ],
   "source": [
    "def calculateAccuracy( dt, samples, labels ):\n",
    "    correctSamples = 0\n",
    "\n",
    "    for idx, row in samples.iterrows():\n",
    "        #TO DO ####################\n",
    "        #Node = buildTree( X_train, y_train, features) \n",
    "        predicted = predict(row,dt)\n",
    "        actual = labels[idx]\n",
    "        if predicted == actual:\n",
    "            correctSamples += 1\n",
    "             #########################\n",
    "\n",
    "    return correctSamples/len( labels )\n",
    "\n",
    "\n",
    "accuracyTrain = calculateAccuracy( myNode, X_train, y_train )\n",
    "\n",
    "accuracyTest = calculateAccuracy( myNode, X_test, y_test )\n",
    "\n",
    "print( \"Accuracy for training set:{} and for test set:{}\".format( accuracyTrain, accuracyTest) )"
   ]
  },
  {
   "cell_type": "markdown",
   "id": "d28ec370",
   "metadata": {},
   "source": [
    "Now, let's see the effect of the cost complexity pruning for the prediction. We will need to calculate the number of leaf nodes in the tree, as well as to extract subtrees of the already built tree. The following two blocks perform such tasks."
   ]
  },
  {
   "cell_type": "code",
   "execution_count": 21,
   "id": "ac9ec708",
   "metadata": {},
   "outputs": [
    {
     "data": {
      "text/plain": [
       "110"
      ]
     },
     "execution_count": 21,
     "metadata": {},
     "output_type": "execute_result"
    }
   ],
   "source": [
    "def totalLeaf( node):\n",
    "    \n",
    "    if node.children is None :\n",
    "        return 1\n",
    "    \n",
    "\n",
    "    \n",
    "    totalL = 0\n",
    "    for child in node.children:\n",
    "        \n",
    "        totalL+= totalLeaf( child )\n",
    "    \n",
    "    return  totalL\n",
    "        \n",
    "totalLeaf(myNode)"
   ]
  },
  {
   "cell_type": "code",
   "execution_count": 22,
   "id": "1cebdc9d",
   "metadata": {},
   "outputs": [
    {
     "name": "stdout",
     "output_type": "stream",
     "text": [
      "Tree with 0 levels\n",
      "total leaves:1 accuracy train:0.590625\n",
      "Tree with 1 levels\n",
      "total leaves:3 accuracy train:0.7125\n",
      "Tree with 2 levels\n",
      "total leaves:6 accuracy train:0.740625\n",
      "Tree with 3 levels\n",
      "total leaves:12 accuracy train:0.775\n",
      "Tree with 4 levels\n",
      "total leaves:22 accuracy train:0.803125\n",
      "Tree with 5 levels\n",
      "total leaves:38 accuracy train:0.84375\n",
      "Tree with 6 levels\n",
      "total leaves:57 accuracy train:0.878125\n",
      "Tree with 7 levels\n",
      "total leaves:79 accuracy train:0.9125\n",
      "Tree with 8 levels\n",
      "total leaves:98 accuracy train:0.95\n",
      "Tree with 9 levels\n",
      "total leaves:110 accuracy train:0.971875\n"
     ]
    }
   ],
   "source": [
    "def cutPerLevel( node, level, maxLevel ):\n",
    "    \n",
    "    if level == maxLevel:\n",
    "        node.children = None\n",
    "    else:\n",
    "        if not node.children is None:\n",
    "        \n",
    "            for child in node.children:\n",
    "                #recursive step\n",
    "                cutPerLevel( child, level+1, maxLevel )\n",
    "                \n",
    "\n",
    "allTrees = [ ]\n",
    "leavesPerTree = [ ]\n",
    "accuracyPerTree = [ ]\n",
    "levels = 10\n",
    "for level in range(levels):\n",
    "    print('Tree with '+str(level)+\" levels\")\n",
    "    features  = columns.copy()\n",
    "    dt_l =  buildTree( X_train, y_train, features )   \n",
    "    cutPerLevel( dt_l, 0, level )\n",
    "    \n",
    "    leaves = totalLeaf( dt_l )\n",
    "    accTree  = calculateAccuracy( dt_l, X_train, y_train )\n",
    "    print( 'total leaves:{} accuracy train:{}'.format( leaves, accTree ) )\n",
    "    allTrees.append( dt_l )\n",
    "    leavesPerTree.append( leaves )\n",
    "    accuracyPerTree.append( accTree )\n",
    "\n",
    "\n",
    "\n"
   ]
  },
  {
   "cell_type": "markdown",
   "id": "4b10bdc9",
   "metadata": {},
   "source": [
    "Now, we need to implement the complexity pruning routine. Use the lists `accuracyPerTree` and `leavesPerTree` for this calculation. These two lists contain the accuracy and leaves for some substrees, respectively. \n",
    "\n",
    "For each possible value of $\\alpha$, you need to find the subtree that obtains the lowest complexity cost, which is calculated as:\n",
    "\n",
    "$ CP_{t} = \\sum_{m=1}^{|T|} E_{m} + \\alpha \\cdot |T| $\n",
    "\n",
    "where |T| is the number of leaves of the tree, and $E$ is error that is calculated as 1-accuracy.\n",
    "\n"
   ]
  },
  {
   "cell_type": "code",
   "execution_count": 23,
   "id": "d0f92176",
   "metadata": {},
   "outputs": [
    {
     "name": "stdout",
     "output_type": "stream",
     "text": [
      "For alpha:0.0, the best cp score is 0.028124999999999956 and the best tree has:110 leaves\n",
      "For alpha:0.00020202020202020202, the best cp score is 0.05034722222222218 and the best tree has:110 leaves\n",
      "For alpha:0.00040404040404040404, the best cp score is 0.07256944444444441 and the best tree has:110 leaves\n",
      "For alpha:0.0006060606060606061, the best cp score is 0.09479166666666662 and the best tree has:110 leaves\n",
      "For alpha:0.0008080808080808081, the best cp score is 0.11701388888888885 and the best tree has:110 leaves\n",
      "For alpha:0.00101010101010101, the best cp score is 0.13923611111111106 and the best tree has:110 leaves\n",
      "For alpha:0.0012121212121212121, the best cp score is 0.1614583333333333 and the best tree has:110 leaves\n",
      "For alpha:0.0014141414141414141, the best cp score is 0.1836805555555555 and the best tree has:110 leaves\n",
      "For alpha:0.0016161616161616162, the best cp score is 0.20590277777777774 and the best tree has:110 leaves\n",
      "For alpha:0.0018181818181818182, the best cp score is 0.2253409090909091 and the best tree has:38 leaves\n",
      "For alpha:0.00202020202020202, the best cp score is 0.23301767676767676 and the best tree has:38 leaves\n",
      "For alpha:0.0022222222222222222, the best cp score is 0.24069444444444443 and the best tree has:38 leaves\n",
      "For alpha:0.0024242424242424242, the best cp score is 0.2483712121212121 and the best tree has:38 leaves\n",
      "For alpha:0.0026262626262626263, the best cp score is 0.2546527777777778 and the best tree has:22 leaves\n",
      "For alpha:0.0028282828282828283, the best cp score is 0.2589393939393939 and the best tree has:12 leaves\n",
      "For alpha:0.0030303030303030303, the best cp score is 0.26136363636363635 and the best tree has:12 leaves\n",
      "For alpha:0.0032323232323232323, the best cp score is 0.2637878787878788 and the best tree has:12 leaves\n",
      "For alpha:0.0034343434343434343, the best cp score is 0.2662121212121212 and the best tree has:12 leaves\n",
      "For alpha:0.0036363636363636364, the best cp score is 0.2686363636363636 and the best tree has:12 leaves\n",
      "For alpha:0.0038383838383838384, the best cp score is 0.27106060606060606 and the best tree has:12 leaves\n",
      "For alpha:0.00404040404040404, the best cp score is 0.27348484848484844 and the best tree has:12 leaves\n",
      "For alpha:0.004242424242424242, the best cp score is 0.2759090909090909 and the best tree has:12 leaves\n",
      "For alpha:0.0044444444444444444, the best cp score is 0.2783333333333333 and the best tree has:12 leaves\n",
      "For alpha:0.004646464646464647, the best cp score is 0.28075757575757576 and the best tree has:12 leaves\n",
      "For alpha:0.0048484848484848485, the best cp score is 0.28318181818181815 and the best tree has:12 leaves\n",
      "For alpha:0.00505050505050505, the best cp score is 0.2856060606060606 and the best tree has:12 leaves\n",
      "For alpha:0.0052525252525252525, the best cp score is 0.288030303030303 and the best tree has:12 leaves\n",
      "For alpha:0.005454545454545455, the best cp score is 0.2904545454545454 and the best tree has:12 leaves\n",
      "For alpha:0.0056565656565656566, the best cp score is 0.29287878787878785 and the best tree has:12 leaves\n",
      "For alpha:0.005858585858585858, the best cp score is 0.2945265151515152 and the best tree has:6 leaves\n",
      "For alpha:0.006060606060606061, the best cp score is 0.2957386363636364 and the best tree has:6 leaves\n",
      "For alpha:0.006262626262626263, the best cp score is 0.2969507575757576 and the best tree has:6 leaves\n",
      "For alpha:0.006464646464646465, the best cp score is 0.29816287878787884 and the best tree has:6 leaves\n",
      "For alpha:0.006666666666666666, the best cp score is 0.299375 and the best tree has:6 leaves\n",
      "For alpha:0.006868686868686869, the best cp score is 0.3005871212121212 and the best tree has:6 leaves\n",
      "For alpha:0.007070707070707071, the best cp score is 0.30179924242424244 and the best tree has:6 leaves\n",
      "For alpha:0.007272727272727273, the best cp score is 0.30301136363636366 and the best tree has:6 leaves\n",
      "For alpha:0.007474747474747474, the best cp score is 0.3042234848484849 and the best tree has:6 leaves\n",
      "For alpha:0.007676767676767677, the best cp score is 0.3054356060606061 and the best tree has:6 leaves\n",
      "For alpha:0.00787878787878788, the best cp score is 0.30664772727272727 and the best tree has:6 leaves\n",
      "For alpha:0.00808080808080808, the best cp score is 0.3078598484848485 and the best tree has:6 leaves\n",
      "For alpha:0.008282828282828282, the best cp score is 0.3090719696969697 and the best tree has:6 leaves\n",
      "For alpha:0.008484848484848484, the best cp score is 0.3102840909090909 and the best tree has:6 leaves\n",
      "For alpha:0.008686868686868687, the best cp score is 0.31149621212121215 and the best tree has:6 leaves\n",
      "For alpha:0.008888888888888889, the best cp score is 0.31270833333333337 and the best tree has:6 leaves\n",
      "For alpha:0.00909090909090909, the best cp score is 0.3139204545454546 and the best tree has:6 leaves\n",
      "For alpha:0.009292929292929294, the best cp score is 0.3151325757575758 and the best tree has:6 leaves\n",
      "For alpha:0.009494949494949495, the best cp score is 0.3159848484848485 and the best tree has:3 leaves\n",
      "For alpha:0.009696969696969697, the best cp score is 0.3165909090909091 and the best tree has:3 leaves\n",
      "For alpha:0.009898989898989899, the best cp score is 0.31719696969696964 and the best tree has:3 leaves\n",
      "For alpha:0.0101010101010101, the best cp score is 0.31780303030303025 and the best tree has:3 leaves\n",
      "For alpha:0.010303030303030303, the best cp score is 0.31840909090909086 and the best tree has:3 leaves\n",
      "For alpha:0.010505050505050505, the best cp score is 0.3190151515151515 and the best tree has:3 leaves\n",
      "For alpha:0.010707070707070707, the best cp score is 0.3196212121212121 and the best tree has:3 leaves\n",
      "For alpha:0.01090909090909091, the best cp score is 0.3202272727272727 and the best tree has:3 leaves\n",
      "For alpha:0.011111111111111112, the best cp score is 0.3208333333333333 and the best tree has:3 leaves\n",
      "For alpha:0.011313131313131313, the best cp score is 0.3214393939393939 and the best tree has:3 leaves\n",
      "For alpha:0.011515151515151515, the best cp score is 0.3220454545454545 and the best tree has:3 leaves\n",
      "For alpha:0.011717171717171716, the best cp score is 0.32265151515151513 and the best tree has:3 leaves\n",
      "For alpha:0.01191919191919192, the best cp score is 0.32325757575757574 and the best tree has:3 leaves\n",
      "For alpha:0.012121212121212121, the best cp score is 0.32386363636363635 and the best tree has:3 leaves\n",
      "For alpha:0.012323232323232323, the best cp score is 0.32446969696969696 and the best tree has:3 leaves\n",
      "For alpha:0.012525252525252526, the best cp score is 0.3250757575757576 and the best tree has:3 leaves\n",
      "For alpha:0.012727272727272728, the best cp score is 0.3256818181818182 and the best tree has:3 leaves\n",
      "For alpha:0.01292929292929293, the best cp score is 0.3262878787878788 and the best tree has:3 leaves\n",
      "For alpha:0.013131313131313131, the best cp score is 0.32689393939393935 and the best tree has:3 leaves\n",
      "For alpha:0.013333333333333332, the best cp score is 0.32749999999999996 and the best tree has:3 leaves\n",
      "For alpha:0.013535353535353536, the best cp score is 0.32810606060606057 and the best tree has:3 leaves\n",
      "For alpha:0.013737373737373737, the best cp score is 0.3287121212121212 and the best tree has:3 leaves\n",
      "For alpha:0.013939393939393939, the best cp score is 0.3293181818181818 and the best tree has:3 leaves\n",
      "For alpha:0.014141414141414142, the best cp score is 0.3299242424242424 and the best tree has:3 leaves\n",
      "For alpha:0.014343434343434344, the best cp score is 0.330530303030303 and the best tree has:3 leaves\n",
      "For alpha:0.014545454545454545, the best cp score is 0.3311363636363636 and the best tree has:3 leaves\n",
      "For alpha:0.014747474747474747, the best cp score is 0.3317424242424242 and the best tree has:3 leaves\n",
      "For alpha:0.014949494949494949, the best cp score is 0.33234848484848484 and the best tree has:3 leaves\n",
      "For alpha:0.015151515151515152, the best cp score is 0.33295454545454545 and the best tree has:3 leaves\n",
      "For alpha:0.015353535353535354, the best cp score is 0.33356060606060606 and the best tree has:3 leaves\n",
      "For alpha:0.015555555555555555, the best cp score is 0.3341666666666666 and the best tree has:3 leaves\n",
      "For alpha:0.01575757575757576, the best cp score is 0.3347727272727272 and the best tree has:3 leaves\n",
      "For alpha:0.01595959595959596, the best cp score is 0.33537878787878783 and the best tree has:3 leaves\n",
      "For alpha:0.01616161616161616, the best cp score is 0.33598484848484844 and the best tree has:3 leaves\n",
      "For alpha:0.016363636363636365, the best cp score is 0.33659090909090905 and the best tree has:3 leaves\n",
      "For alpha:0.016565656565656565, the best cp score is 0.33719696969696966 and the best tree has:3 leaves\n",
      "For alpha:0.016767676767676768, the best cp score is 0.33780303030303027 and the best tree has:3 leaves\n",
      "For alpha:0.016969696969696968, the best cp score is 0.3384090909090909 and the best tree has:3 leaves\n",
      "For alpha:0.01717171717171717, the best cp score is 0.3390151515151515 and the best tree has:3 leaves\n",
      "For alpha:0.017373737373737375, the best cp score is 0.3396212121212121 and the best tree has:3 leaves\n",
      "For alpha:0.017575757575757574, the best cp score is 0.3402272727272727 and the best tree has:3 leaves\n",
      "For alpha:0.017777777777777778, the best cp score is 0.3408333333333333 and the best tree has:3 leaves\n",
      "For alpha:0.01797979797979798, the best cp score is 0.34143939393939393 and the best tree has:3 leaves\n",
      "For alpha:0.01818181818181818, the best cp score is 0.34204545454545454 and the best tree has:3 leaves\n",
      "For alpha:0.018383838383838384, the best cp score is 0.34265151515151515 and the best tree has:3 leaves\n",
      "For alpha:0.018585858585858588, the best cp score is 0.34325757575757576 and the best tree has:3 leaves\n",
      "For alpha:0.018787878787878787, the best cp score is 0.34386363636363637 and the best tree has:3 leaves\n",
      "For alpha:0.01898989898989899, the best cp score is 0.344469696969697 and the best tree has:3 leaves\n",
      "For alpha:0.01919191919191919, the best cp score is 0.34507575757575754 and the best tree has:3 leaves\n",
      "For alpha:0.019393939393939394, the best cp score is 0.34568181818181815 and the best tree has:3 leaves\n",
      "For alpha:0.019595959595959597, the best cp score is 0.34628787878787876 and the best tree has:3 leaves\n",
      "For alpha:0.019797979797979797, the best cp score is 0.34689393939393937 and the best tree has:3 leaves\n",
      "For alpha:0.02, the best cp score is 0.3475 and the best tree has:3 leaves\n"
     ]
    }
   ],
   "source": [
    "alphas = np.linspace(0, 0.02, 100)\n",
    "trainAccuracy = np.empty( len(alphas) )\n",
    "testAccuracy = np.empty( len(alphas) )\n",
    "\n",
    "\n",
    "for idxAlpha in range(len(alphas)):\n",
    "    alpha = alphas[idxAlpha]\n",
    "    bestTreeIdx = 0\n",
    "    bestScore = 1000\n",
    "    \n",
    "    \n",
    "    for idxTree in range(len(allTrees)):\n",
    "        \n",
    "        \n",
    "        tree = allTrees[idxTree]\n",
    "        accuracyTrain = accuracyPerTree[idxTree]\n",
    "        numLeaves = leavesPerTree[idxTree]\n",
    "        \n",
    "        \n",
    "        ## TO DO ##########################\n",
    "        \n",
    "        # error is  1 - accuracy\n",
    "        error = 1 - accuracyTrain\n",
    "        \n",
    "        \n",
    "        #complexity cost\n",
    "        score = np.sum(error) + (alpha * numLeaves)\n",
    "        \n",
    "        # Updating best score and tree index if current score is less\n",
    "        \n",
    "        if score < bestScore:\n",
    "            bestScore = score\n",
    "            bestTreeIdx = idxTree\n",
    "            \n",
    "        \n",
    "        ##########################\n",
    "        \n",
    "    print( 'For alpha:{}, the best cp score is {} and the best tree has:{} leaves'.format(\n",
    "        alpha, bestScore, leavesPerTree[bestTreeIdx] ) )\n",
    "    \n",
    "    trainAccuracy[ idxAlpha ]  = calculateAccuracy( allTrees[bestTreeIdx], X_train, y_train )\n",
    "    \n",
    "    testAccuracy[ idxAlpha ]  = calculateAccuracy( allTrees[bestTreeIdx], X_test, y_test )"
   ]
  },
  {
   "cell_type": "markdown",
   "id": "3217ad81",
   "metadata": {},
   "source": [
    "The following block plot the training and test accuracy for each alpha."
   ]
  },
  {
   "cell_type": "code",
   "execution_count": 24,
   "id": "69a0bb6f",
   "metadata": {},
   "outputs": [
    {
     "data": {
      "image/png": "[encoded data removed]",
      "text/plain": [
       "<Figure size 800x400 with 1 Axes>"
      ]
     },
     "metadata": {},
     "output_type": "display_data"
    }
   ],
   "source": [
    "plt.figure(figsize=(8,4))\n",
    "plt.plot( (alphas), trainAccuracy, '*--', label='Training')\n",
    "plt.plot( (alphas), testAccuracy, 'x:', label='Test')\n",
    "\n",
    "plt.xlabel('alphas')\n",
    "plt.ylabel('accuracy')\n",
    "plt.grid()\n",
    "plt.legend()\n",
    "plt.show()"
   ]
  },
  {
   "cell_type": "markdown",
   "id": "10d79243",
   "metadata": {},
   "source": [
    "When hyperparameter alpha is in the range 0.0000 and 0.0025, the test accuracy is far less than training accuracy,(which suggests that our model was overfit in this range) the test accuracy abruptly starts increasing and training accracy starts decreasing for alpha = 0.0020.Both training and test sets intersect at alpha somewhere around 0.0027 with accuracy in the range 77 to 80 percent.\n",
    "In the range for alpha 0.0025 and 0.0050,test accuracy remains constant at 80 % is a little higher than training.\n",
    "After 0.0050,both of them decrease substantially.As alpha increases, there is a cost to having a big tree, so a smaller subtree is selected which reduces accuracy."
   ]
  },
  {
   "cell_type": "markdown",
   "id": "497985be",
   "metadata": {},
   "source": [
    "So far, we have implemented the decision tree from scratch. In practice, we do not have to do this at each time. We can take advantage of the built-in functions. Specifically, we can use the class Decision Tree from sklearn (https://scikit-learn.org/stable/modules/tree.html)\n",
    "\n",
    "In order to use the in-built decision tree, we need to convert the categorical features, which have string values, to numerical values. We can do that using `LabelEncoder`, as is shown in the block. This will convert the values of the columns 'ShelveLoc', 'Urban', 'US' into a number for each category.\n",
    "\n",
    "Use the `X_train_encoded` to train a decision tree. You first, need to define an object from that class (`clf = tree.DecisionTreeClassifier(random_state=0`). Then use the method fit as shown in the class documentation (https://scikit-learn.org/stable/modules/tree.html)\n",
    "\n",
    "Once build the decision tree, use the method `predict` to estimate the class from the `X_test_encoded`"
   ]
  },
  {
   "cell_type": "code",
   "execution_count": 25,
   "id": "c54d9fe1",
   "metadata": {},
   "outputs": [
    {
     "name": "stdout",
     "output_type": "stream",
     "text": [
      "Test accuracy is  0.725\n"
     ]
    }
   ],
   "source": [
    "from sklearn import tree\n",
    "from sklearn.preprocessing import LabelEncoder\n",
    "from sklearn import metrics\n",
    "\n",
    "\n",
    "colCat = ['ShelveLoc', 'Urban', 'US']\n",
    "\n",
    "le = LabelEncoder()\n",
    "X_train_encoded = X_train.copy()\n",
    "X_test_encoded = X_test.copy()\n",
    "\n",
    "for c in colCat:\n",
    "    X_train_encoded[ c ] = le.fit_transform( X_train[ c ] ) \n",
    "    X_test_encoded[ c ] = le.transform( X_test[ c ] ) \n",
    "\n",
    "    \n",
    "    \n",
    "#######################################################\n",
    "######################## TO DO ########################\n",
    "clf = tree.DecisionTreeClassifier(random_state=0)\n",
    "clf = clf.fit(X_train_encoded,y_train)\n",
    "#tree.plot_tree(clf)\n",
    "y_pred = clf.predict(X_test_encoded)\n",
    "accTest = metrics.accuracy_score(y_test, y_pred)\n",
    "\n",
    "\n",
    "###########################################\n",
    "\n",
    "print('Test accuracy is ', accTest)"
   ]
  },
  {
   "cell_type": "markdown",
   "id": "6beeb1f9",
   "metadata": {},
   "source": [
    "# KNN"
   ]
  },
  {
   "cell_type": "markdown",
   "id": "aa3b9d69",
   "metadata": {},
   "source": [
    "Now, we will use kNN to check the performance on the same dataset."
   ]
  },
  {
   "cell_type": "markdown",
   "id": "91a14d0d",
   "metadata": {},
   "source": [
    "As kNN uses the Euclidean distance to find the nearest neighbors. We need to calculate the categorical variables into numbers. The best practice is to convert each category into one-hot-encoded variable, in which each category value is converted into a column. A value of 1 in that column indicates the sample of that value. For example, let's assume we have this small data, and we want to convert the feature color into a one-hot-encoded variable.\n",
    "\n",
    "| Fruit  | Weight  | Color |\n",
    "|----------|----------|----------|\n",
    "| Apple | 182 | 'red' |\n",
    "| Banana | 120 | 'yellow' |\n",
    "| Apple | 177  | 'red' |\n",
    "\n",
    "So, the column color we will convert into two columns: one for red and the second one for yellow.\n",
    "\n",
    "\n",
    "| Fruit  | Weight  | red | yellow |\n",
    "|----------|----------|----------|---------|\n",
    "| Apple | 182 | 1 |0 |\n",
    "| Banana | 120 | 0 |1 |\n",
    "| Apple | 177  | 1 |0 |\n",
    "\n",
    "The block below performs the transformation"
   ]
  },
  {
   "cell_type": "code",
   "execution_count": 26,
   "id": "abce7177",
   "metadata": {},
   "outputs": [
    {
     "name": "stdout",
     "output_type": "stream",
     "text": [
      "(320, 14) (320,) (80, 14) (80,)\n"
     ]
    }
   ],
   "source": [
    "from sklearn.preprocessing import OneHotEncoder\n",
    "\n",
    "enc = OneHotEncoder(handle_unknown='ignore')\n",
    "\n",
    "numCols = [c for c in X_train.columns if c not in colCat] \n",
    "\n",
    "#hstack function stacks the two arrays in arguments as a one 2-dimentional array\n",
    "Xtrain = np.hstack([ X_train[numCols ].to_numpy(), #converted the pd dataframe into numpy 2-D array\n",
    "                    enc.fit_transform( X_train[ colCat ] ).toarray() ])\n",
    "\n",
    "Xtest = np.hstack([ X_test[numCols].to_numpy(), \n",
    "                    enc.transform( X_test[ colCat ] ).toarray() ])\n",
    "\n",
    "\n",
    "\n",
    "yTrain = y_train.to_numpy()\n",
    "yTest = y_test.to_numpy()\n",
    "\n",
    "print( Xtrain.shape, yTrain.shape, Xtest.shape , yTest.shape )"
   ]
  },
  {
   "cell_type": "markdown",
   "id": "62bf0a94",
   "metadata": {},
   "source": [
    " Another important transformation for the kNN is to normalize the numerical variables. In the next code, you need to normalize the features. For each feature, you need to calculate the mean and std using the `Xtrain`. Remember that the normalized is calculated as follows:\n",
    "$ z = \\frac{x-\\mu}{\\sigma} $.\n",
    "\n",
    "Complete the function that transforms a vector of values into a normalized vector."
   ]
  },
  {
   "cell_type": "code",
   "execution_count": 27,
   "id": "6f532165",
   "metadata": {},
   "outputs": [],
   "source": [
    "def normalize(x_values, mean, std):\n",
    "    #TO DO #######\n",
    "    \n",
    "    z = (x_values - mean) / std\n",
    "    \n",
    "    ############\n",
    "    return z"
   ]
  },
  {
   "cell_type": "markdown",
   "id": "a200911e",
   "metadata": {},
   "source": [
    "Now we have to iterte over the numerical columns, and call the normalize function for the training and test sets."
   ]
  },
  {
   "cell_type": "code",
   "execution_count": 28,
   "id": "c447575a",
   "metadata": {},
   "outputs": [],
   "source": [
    "for iCol in range(len( numCols) ):\n",
    "    meanValue = np.mean( Xtrain[ :,iCol ] ) \n",
    "    stdValue = np.std( Xtrain[ :,iCol ] ) \n",
    "    \n",
    "  \n",
    "    Xtrain[ :,iCol ] = normalize(Xtrain[ :,iCol ], meanValue, stdValue)\n",
    "    Xtest[ :,iCol ] = normalize(Xtest[ :,iCol ], meanValue, stdValue)"
   ]
  },
  {
   "cell_type": "markdown",
   "id": "3e959b20",
   "metadata": {},
   "source": [
    "Write the function that calculates the Euclidean distance between two points.\n",
    "\n",
    "$\n",
    "d(x, new\\_point) = \\sum_{j=1}^{p} = (x_j, new\\_point_j)^2\n",
    "$"
   ]
  },
  {
   "cell_type": "code",
   "execution_count": 29,
   "id": "c1f42216",
   "metadata": {},
   "outputs": [],
   "source": [
    "\n",
    "def ecludianDistance( x, new_point):\n",
    "    \n",
    "    x, new_point = np.array(x),np.array(new_point)\n",
    "    \n",
    "    #TO DO ##############\n",
    "    sum = 0\n",
    "    for i in range(len(x)):\n",
    "        sum += (x[i] - new_point[i])**2\n",
    "    \n",
    "    d = np.sqrt(sum)\n",
    "    ##############\n",
    "    return d"
   ]
  },
  {
   "cell_type": "markdown",
   "id": "c1b5f5c0",
   "metadata": {},
   "source": [
    "After implementing the distance function, we need a function that iterates for each training sample and calculates the distance to the new point. The function returns the distance between the new point and each sample."
   ]
  },
  {
   "cell_type": "code",
   "execution_count": 30,
   "id": "95a25764",
   "metadata": {},
   "outputs": [],
   "source": [
    "def calculateDistance( new_point, samples  ):\n",
    "    \n",
    "    distances = np.empty( samples.shape[ 0 ] )\n",
    "    #TO DO ##############\n",
    "    for i, sample in enumerate(samples):\n",
    "        \n",
    "        distance = ecludianDistance(sample, new_point)\n",
    "        distances[i] = distance\n",
    "        \n",
    "    \n",
    "    ##############\n",
    "    \n",
    "    return distances"
   ]
  },
  {
   "cell_type": "markdown",
   "id": "cc198310",
   "metadata": {},
   "source": [
    "Implement the `predictKNN` that receives as input $k$. You need to call the function `calculateDistance` for each point. Then, find the closet k points. Take the majority of labels from these samples as the prediction value."
   ]
  },
  {
   "cell_type": "code",
   "execution_count": 31,
   "id": "2d9e2d2f",
   "metadata": {},
   "outputs": [],
   "source": [
    "from collections import Counter\n",
    "def predictKNN( k, new_point, samples, labels):\n",
    "    \n",
    "    #TO DO ##############\n",
    "    distances = calculateDistance(new_point, samples)\n",
    "    \n",
    "    k_indices = np.argsort(distances)[:k]\n",
    "    k_nearest_labels = [labels[i] for i in k_indices]\n",
    "    \n",
    "     \n",
    "    mode = Counter(k_nearest_labels).most_common()\n",
    "    \n",
    "   \n",
    "\n",
    "\n",
    "    ########################################\n",
    "    return mode[0][0]"
   ]
  },
  {
   "cell_type": "markdown",
   "id": "d50b6371",
   "metadata": {},
   "source": [
    "Now, implement the function that calculates the accuracy based on the predicted value."
   ]
  },
  {
   "cell_type": "code",
   "execution_count": 32,
   "id": "a9e4df40",
   "metadata": {},
   "outputs": [],
   "source": [
    "def calculateKNN( k, dataTrain, labelTrain, dataTest, labelTest ):\n",
    "    acc = 0\n",
    "    for idx in range( dataTest.shape[ 0 ] ):\n",
    "        \n",
    "        #TO DO ##############\n",
    "        pred = predictKNN( k, dataTest[idx], dataTrain, labelTrain)\n",
    "        \n",
    "        \n",
    "        \n",
    "\n",
    "        #############################################\n",
    "        if pred == labelTest[ idx ]:\n",
    "            acc += 1\n",
    "\n",
    "    accRate = acc/dataTest.shape[ 0 ]\n",
    "\n",
    "    return accRate"
   ]
  },
  {
   "cell_type": "markdown",
   "id": "ffffd0f6",
   "metadata": {},
   "source": [
    "We now use different values to evaluate the performance of the kNN."
   ]
  },
  {
   "cell_type": "code",
   "execution_count": 33,
   "id": "ec2607c6",
   "metadata": {},
   "outputs": [],
   "source": [
    "ks  = [1,3,5,7,9,11,21,33,55, len(yTrain) ]\n",
    "trainAccuracyKnn = np.empty( len(ks) )\n",
    "testAccuracyKnn = np.empty( len(ks) )\n",
    "\n",
    "for idxK in range(len(ks)):\n",
    "        \n",
    "    trainAccuracyKnn[ idxK ]  = calculateKNN( ks[idxK], Xtrain, yTrain, Xtrain, yTrain )\n",
    "    testAccuracyKnn[ idxK ]  = calculateKNN( ks[idxK],  Xtrain, yTrain, Xtest, yTest)\n"
   ]
  },
  {
   "cell_type": "code",
   "execution_count": 34,
   "id": "55c468e1",
   "metadata": {},
   "outputs": [
    {
     "data": {
      "image/png": "[encoded data removed]",
      "text/plain": [
       "<Figure size 800x400 with 1 Axes>"
      ]
     },
     "metadata": {},
     "output_type": "display_data"
    }
   ],
   "source": [
    "plt.figure(figsize=(8,4))\n",
    "plt.plot( ks, trainAccuracyKnn, '*--', label='Training')\n",
    "plt.plot( ks, testAccuracyKnn, 'x:', label='Test')\n",
    "plt.xlabel('k')\n",
    "plt.ylabel('accuracy')\n",
    "plt.grid()\n",
    "plt.legend()\n",
    "plt.show()"
   ]
  },
  {
   "cell_type": "markdown",
   "id": "07e04cf8",
   "metadata": {},
   "source": [
    "    \n",
    "The model showed better performance on the training set as compared to the test set. So we can conclude it's overfitted, it is able to predict training data with very good accuracy but not so well with test data.\n",
    "Also, with the increase in value of k,we see a decline in accuracy for both training and test data.So, we can also state that with the increase in number of neighbours, it's overall accuracy decreases for both traning and test data as there is an increment in irrelevant data points.There is one more interesting thing I found in figure,we hit a point in the range 0 to 50 where the training and test accuracy are similar which is 0.8. This is the point where we can say that the model was most successful in balancing bias and variance.\n"
   ]
  },
  {
   "cell_type": "markdown",
   "id": "22f77131",
   "metadata": {},
   "source": [
    "Similar to the decision tree, Python accounts with a function for kNN. Check the documentation: https://scikit-learn.org/stable/modules/neighbors.html to build the KNeighborsClassifier using k=13 on Xtrain. Calculate the test using Xtest."
   ]
  },
  {
   "cell_type": "code",
   "execution_count": 35,
   "id": "c25c2f88",
   "metadata": {},
   "outputs": [
    {
     "name": "stdout",
     "output_type": "stream",
     "text": [
      "Accuracy test is 0.8125\n"
     ]
    }
   ],
   "source": [
    "from sklearn.neighbors import KNeighborsClassifier\n",
    "from sklearn.metrics import accuracy_score\n",
    "\n",
    "\n",
    "###### TO DO #################################\n",
    "#KNeighborsClassifier instance created with k = 13\n",
    "knn = KNeighborsClassifier(n_neighbors=13)\n",
    "#model is trained using the training data\n",
    "knn.fit(Xtrain, yTrain)\n",
    "\n",
    "y_pred = knn.predict(Xtest)\n",
    "accTest = accuracy_score(yTest, y_pred)\n",
    "\n",
    "\n",
    "#################################\n",
    "print( 'Accuracy test is', accTest)"
   ]
  },
  {
   "cell_type": "code",
   "execution_count": null,
   "id": "3638524b",
   "metadata": {},
   "outputs": [],
   "source": []
  }
 ],
 "metadata": {
  "kernelspec": {
   "display_name": "Python 3 (ipykernel)",
   "language": "python",
   "name": "python3"
  },
  "language_info": {
   "codemirror_mode": {
    "name": "ipython",
    "version": 3
   },
   "file_extension": ".py",
   "mimetype": "text/x-python",
   "name": "python",
   "nbconvert_exporter": "python",
   "pygments_lexer": "ipython3",
   "version": "3.11.5"
  }
 },
 "nbformat": 4,
 "nbformat_minor": 5
}
